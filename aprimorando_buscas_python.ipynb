{
 "cells": [
  {
   "cell_type": "markdown",
   "id": "2818a6bc",
   "metadata": {},
   "source": [
    "# 🧠 Atividade: Como Aprimorar os Resultados de Busca em Python"
   ]
  },
  {
   "cell_type": "markdown",
   "id": "05e35871",
   "metadata": {},
   "source": [
    "### 🎯 Objetivo\n",
    "Aprender técnicas para melhorar buscas de texto em Python, utilizando estratégias como:\n",
    "- Normalização de texto\n",
    "- Tokenização\n",
    "- Similaridade de strings (`difflib`)\n",
    "- Expressões regulares (`re`)\n",
    "- Busca aproximada e fuzzy matching"
   ]
  },
  {
   "cell_type": "markdown",
   "id": "d452e4f5",
   "metadata": {},
   "source": [
    "### 📦 Preparação do ambiente"
   ]
  },
  {
   "cell_type": "code",
   "execution_count": null,
   "id": "b8f77273",
   "metadata": {},
   "outputs": [],
   "source": [
    "import re\n",
    "import difflib\n",
    "import unicodedata"
   ]
  },
  {
   "cell_type": "markdown",
   "id": "2b684bba",
   "metadata": {},
   "source": [
    "### 📌 Parte 1: Normalização de Texto"
   ]
  },
  {
   "cell_type": "code",
   "execution_count": null,
   "id": "cd056e73",
   "metadata": {},
   "outputs": [],
   "source": [
    "def normalize(text):\n",
    "    text = text.lower()\n",
    "    text = unicodedata.normalize('NFKD', text).encode('ASCII', 'ignore').decode('utf-8')\n",
    "    text = re.sub(r'[^\\w\\s]', '', text)\n",
    "    return text\n",
    "\n",
    "# Teste\n",
    "textos = [\"Olá, mundo!\", \"Café com Leite\", \"Python é incrível!\"]\n",
    "[normalize(t) for t in textos]\n"
   ]
  },
  {
   "cell_type": "markdown",
   "id": "87f52670",
   "metadata": {},
   "source": [
    "### 📌 Parte 2: Busca simples com normalização"
   ]
  },
  {
   "cell_type": "code",
   "execution_count": null,
   "id": "384b3d32",
   "metadata": {},
   "outputs": [],
   "source": [
    "def busca_simples(query, base):\n",
    "    query_norm = normalize(query)\n",
    "    return [item for item in base if query_norm in normalize(item)]\n",
    "\n",
    "produtos = [\n",
    "    \"Café Preto\", \"Chá Verde\", \"Café com Leite\", \"Suco de Laranja\", \"Água Mineral\"\n",
    "]\n",
    "\n",
    "busca_simples(\"cafe\", produtos)\n"
   ]
  },
  {
   "cell_type": "markdown",
   "id": "30a07bf3",
   "metadata": {},
   "source": [
    "### 📌 Parte 3: Busca por similaridade com `difflib.get_close_matches`"
   ]
  },
  {
   "cell_type": "code",
   "execution_count": null,
   "id": "ffcff5b8",
   "metadata": {},
   "outputs": [],
   "source": [
    "def busca_similar(query, base, n=3, cutoff=0.6):\n",
    "    return difflib.get_close_matches(query, base, n=n, cutoff=cutoff)\n",
    "\n",
    "busca_similar(\"cafe com leite\", produtos)\n"
   ]
  },
  {
   "cell_type": "markdown",
   "id": "2b6b7b1e",
   "metadata": {},
   "source": [
    "### 📌 Parte 4: Expressões regulares para busca flexível"
   ]
  },
  {
   "cell_type": "code",
   "execution_count": null,
   "id": "4f0df876",
   "metadata": {},
   "outputs": [],
   "source": [
    "def busca_regex(query, base):\n",
    "    pattern = re.compile(query, re.IGNORECASE)\n",
    "    return [item for item in base if re.search(pattern, item)]\n",
    "\n",
    "busca_regex(\"café|suco\", produtos)\n"
   ]
  },
  {
   "cell_type": "markdown",
   "id": "ab00463a",
   "metadata": {},
   "source": [
    "### 📌 Parte 5: Exercícios"
   ]
  },
  {
   "cell_type": "markdown",
   "id": "671e3c12",
   "metadata": {},
   "source": [
    "#### 📝 Exercício 1: Busca aprimorada combinando normalização e similaridade"
   ]
  },
  {
   "cell_type": "code",
   "execution_count": null,
   "id": "050d7771",
   "metadata": {},
   "outputs": [],
   "source": [
    "def busca_aprimorada(query, base):\n",
    "    norm_base = [normalize(item) for item in base]\n",
    "    norm_query = normalize(query)\n",
    "    correspondencias = difflib.get_close_matches(norm_query, norm_base, n=3, cutoff=0.6)\n",
    "    return [base[norm_base.index(m)] for m in correspondencias]\n",
    "\n",
    "busca_aprimorada(\"cafe leite\", produtos)\n"
   ]
  },
  {
   "cell_type": "markdown",
   "id": "82d23372",
   "metadata": {},
   "source": [
    "#### 📝 Exercício 2: Nova base de cidades e aplicação das buscas"
   ]
  },
  {
   "cell_type": "code",
   "execution_count": null,
   "id": "f3b209ec",
   "metadata": {},
   "outputs": [],
   "source": [
    "cidades = [\"São Paulo\", \"Salvador\", \"Santos\", \"Santa Catarina\", \"Rio de Janeiro\", \"Curitiba\", \"Brasília\", \"Belo Horizonte\"]\n",
    "\n",
    "print(busca_simples(\"sao\", cidades))\n",
    "print(busca_aprimorada(\"santos\", cidades))\n",
    "print(busca_regex(\"^S\", cidades))\n"
   ]
  },
  {
   "cell_type": "markdown",
   "id": "c2ae9de6",
   "metadata": {},
   "source": [
    "### ✅ Conclusão\n",
    "Nesta atividade, você aprendeu:\n",
    "- A importância da normalização textual\n",
    "- Como realizar buscas simples, por similaridade e com regex\n",
    "- Técnicas para aumentar a robustez da busca textual em sistemas com entrada variável"
   ]
  }
 ],
 "metadata": {},
 "nbformat": 4,
 "nbformat_minor": 5
}
