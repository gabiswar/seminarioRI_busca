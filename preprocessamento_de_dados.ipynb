{
 "cells": [
  {
   "cell_type": "markdown",
   "metadata": {},
   "source": [
    "# Pré-processamento de Dados - Atividades Práticas\n",
    "### Atividades sobre as apresentações de Gabriela Guerra, Caio Vinicius, Celso França, Jorge Hiroki, Rafael Lima, Vitor Godinho"
   ]
  },
  {
   "cell_type": "code",
   "execution_count": 1,
   "metadata": {},
   "outputs": [
    {
     "name": "stdout",
     "output_type": "stream",
     "text": [
      "Notebook carregado com sucesso.\n"
     ]
    }
   ],
   "source": [
    "import numpy as np\n",
    "import pandas as pd\n",
    "from sklearn.preprocessing import MinMaxScaler, KBinsDiscretizer\n",
    "from sklearn.decomposition import PCA\n",
    "\n",
    "print(\"Notebook carregado com sucesso.\")"
   ]
  },
  {
   "cell_type": "markdown",
   "metadata": {},
   "source": [
    "## 🧪 Atividade 1: Tratamento de Dados \n",
    "\n",
    "Preencher valores faltantes de forma adequada. Dica: Utilize o método fillna() do pandas"
   ]
  },
  {
   "cell_type": "code",
   "execution_count": 0,
   "metadata": {},
   "outputs": [
   ],
   "source": [
    "# Simulando um DataFrame com dados faltantes\n",
    "df = pd.DataFrame({\n",
    "    'idade': [25, np.nan, 35, 40, np.nan],\n",
    "    'salario': [3000, 3200, np.nan, 5000, 4500]\n",
    "})\n",
    "\n",
    "#Faça a média dos dados numéricos do DataFrame\n",
    "df_filled = None #DESENVOLVA ESSA VARIÁVEL\n",
    "\n",
    "# Exibir resultado\n",
    "print(df_filled)\n",
    "\n",
    "# Testes\n",
    "assert df_filled.isnull().sum().sum() == 0, \"❌ Ainda existem valores faltantes!\"\n",
    "print(\"✅ Atividade 1 concluída com sucesso.\")\n"
   ]
  },
  {
   "cell_type": "markdown",
   "metadata": {},
   "source": [
    "## 🧑‍💻 Atividade 2: Implemente sua própria função de preenchimento de dados faltantes\n",
    "\n",
    "Complete a função `preencher_com_mediana(df)` abaixo para que ela preencha os valores nulos de um DataFrame usando a **mediana** de cada coluna numérica. \n",
    "\n",
    "**Dica**: use `df.median()` e `df.fillna()`."
   ]
  },
  {
   "cell_type": "code",
   "execution_count": 0,
   "metadata": {},
   "outputs": [
   ],
   "source": [
    "# Função a ser implementada\n",
    "def preencher_com_mediana(df):\n",
    "    # TODO: implemente aqui o preenchimento com mediana\n",
    "    pass\n",
    "\n",
    "# Testando sua função\n",
    "df_teste = pd.DataFrame({\n",
    "    'idade': [25, np.nan, 35, 40, np.nan],\n",
    "    'salario': [3000, 3200, np.nan, 5000, 4500]\n",
    "})\n",
    "\n",
    "df_resultado = preencher_com_mediana(df_teste)\n",
    "print(df_resultado)\n",
    "\n",
    "# Teste automático\n",
    "esperado = df_teste.fillna(df_teste.median(numeric_only=True))\n",
    "assert df_resultado.equals(esperado), \"❌ A função não preencheu corretamente com a mediana.\"\n",
    "print(\"✅ Função implementada corretamente!\")"
   ]
  },
  {
   "cell_type": "markdown",
   "metadata": {},
   "source": [
    "## Atividade 3: \n",
    "[Provinha sobre como aprimorar resultados de busca com métodos de Aprendizado de Máquina](https://docs.google.com/forms/d/e/1FAIpQLSevCtmNK96ZjRC58JGZDMLFx7krykKd8WBuchRlnN_QeuDA7w/viewform)"
   ]
  }
 ],
 "metadata": {
  "kernelspec": {
   "display_name": "Python 3",
   "language": "python",
   "name": "python3"
  },
  "language_info": {
   "codemirror_mode": {
    "name": "ipython",
    "version": 3
   },
   "file_extension": ".py",
   "mimetype": "text/x-python",
   "name": "python",
   "nbconvert_exporter": "python",
   "pygments_lexer": "ipython3",
   "version": "3.11.9"
  }
 },
 "nbformat": 4,
 "nbformat_minor": 2
}
