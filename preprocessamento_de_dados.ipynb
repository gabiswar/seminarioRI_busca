{
 "cells": [
  {
   "cell_type": "markdown",
   "metadata": {},
   "source": [
    "# Pré-processamento de Dados - Atividades Práticas\n",
    "### Baseado nos slides de Gabriela Guerra, Caio Vinicius e Celso França"
   ]
  },
  {
   "cell_type": "code",
   "execution_count": 1,
   "metadata": {},
   "outputs": [
    {
     "name": "stdout",
     "output_type": "stream",
     "text": [
      "Notebook carregado com sucesso.\n"
     ]
    }
   ],
   "source": [
    "import numpy as np\n",
    "import pandas as pd\n",
    "from sklearn.preprocessing import MinMaxScaler, KBinsDiscretizer\n",
    "from sklearn.decomposition import PCA\n",
    "\n",
    "print(\"Notebook carregado com sucesso.\")"
   ]
  },
  {
   "cell_type": "markdown",
   "metadata": {},
   "source": [
    "## 🧪 Atividade 1: Tratamento de Dados \n",
    "\n",
    "Preencher valores faltantes de forma adequada. Dica: Utilize o método fillna() do pandas"
   ]
  },
  {
   "cell_type": "code",
   "execution_count": null,
   "metadata": {},
   "outputs": [
    {
     "name": "stdout",
     "output_type": "stream",
     "text": [
      "None\n"
     ]
    },
    {
     "ename": "AttributeError",
     "evalue": "'NoneType' object has no attribute 'isnull'",
     "output_type": "error",
     "traceback": [
      "\u001b[31m---------------------------------------------------------------------------\u001b[39m",
      "\u001b[31mAttributeError\u001b[39m                            Traceback (most recent call last)",
      "\u001b[36mCell\u001b[39m\u001b[36m \u001b[39m\u001b[32mIn[34]\u001b[39m\u001b[32m, line 14\u001b[39m\n\u001b[32m     11\u001b[39m \u001b[38;5;28mprint\u001b[39m(df_filled)\n\u001b[32m     13\u001b[39m \u001b[38;5;66;03m# Testes\u001b[39;00m\n\u001b[32m---> \u001b[39m\u001b[32m14\u001b[39m \u001b[38;5;28;01massert\u001b[39;00m \u001b[43mdf_filled\u001b[49m\u001b[43m.\u001b[49m\u001b[43misnull\u001b[49m().sum().sum() == \u001b[32m0\u001b[39m, \u001b[33m\"\u001b[39m\u001b[33m❌ Ainda existem valores faltantes!\u001b[39m\u001b[33m\"\u001b[39m\n\u001b[32m     15\u001b[39m \u001b[38;5;28mprint\u001b[39m(\u001b[33m\"\u001b[39m\u001b[33m✅ Atividade 1 concluída com sucesso.\u001b[39m\u001b[33m\"\u001b[39m)\n",
      "\u001b[31mAttributeError\u001b[39m: 'NoneType' object has no attribute 'isnull'"
     ]
    }
   ],
   "source": [
    "# Simulando um DataFrame com dados faltantes\n",
    "df = pd.DataFrame({\n",
    "    'idade': [25, np.nan, 35, 40, np.nan],\n",
    "    'salario': [3000, 3200, np.nan, 5000, 4500]\n",
    "})\n",
    "\n",
    "#Faça a média dos dados numéricos do DataFrame\n",
    "df_filled = None #DESENVOLVA ESSA VARIÁVEL\n",
    "\n",
    "# Exibir resultado\n",
    "print(df_filled)\n",
    "\n",
    "# Testes\n",
    "assert df_filled.isnull().sum().sum() == 0, \"❌ Ainda existem valores faltantes!\"\n",
    "print(\"✅ Atividade 1 concluída com sucesso.\")\n"
   ]
  },
  {
   "cell_type": "markdown",
   "metadata": {},
   "source": [
    "## 🧑‍💻 Atividade 2: Implemente sua própria função de preenchimento de dados faltantes\n",
    "\n",
    "Complete a função `preencher_com_mediana(df)` abaixo para que ela preencha os valores nulos de um DataFrame usando a **mediana** de cada coluna numérica. \n",
    "\n",
    "**Dica**: use `df.median()` e `df.fillna()`."
   ]
  },
  {
   "cell_type": "code",
   "execution_count": 43,
   "metadata": {},
   "outputs": [
    {
     "name": "stdout",
     "output_type": "stream",
     "text": [
      "None\n"
     ]
    },
    {
     "ename": "AttributeError",
     "evalue": "'NoneType' object has no attribute 'equals'",
     "output_type": "error",
     "traceback": [
      "\u001b[31m---------------------------------------------------------------------------\u001b[39m",
      "\u001b[31mAttributeError\u001b[39m                            Traceback (most recent call last)",
      "\u001b[36mCell\u001b[39m\u001b[36m \u001b[39m\u001b[32mIn[43]\u001b[39m\u001b[32m, line 17\u001b[39m\n\u001b[32m     15\u001b[39m \u001b[38;5;66;03m# Teste automático\u001b[39;00m\n\u001b[32m     16\u001b[39m esperado = df_teste.fillna(df_teste.median(numeric_only=\u001b[38;5;28;01mTrue\u001b[39;00m))\n\u001b[32m---> \u001b[39m\u001b[32m17\u001b[39m \u001b[38;5;28;01massert\u001b[39;00m \u001b[43mdf_resultado\u001b[49m\u001b[43m.\u001b[49m\u001b[43mequals\u001b[49m(esperado), \u001b[33m\"\u001b[39m\u001b[33m❌ A função não preencheu corretamente com a mediana.\u001b[39m\u001b[33m\"\u001b[39m\n\u001b[32m     18\u001b[39m \u001b[38;5;28mprint\u001b[39m(\u001b[33m\"\u001b[39m\u001b[33m✅ Função implementada corretamente!\u001b[39m\u001b[33m\"\u001b[39m)\n",
      "\u001b[31mAttributeError\u001b[39m: 'NoneType' object has no attribute 'equals'"
     ]
    }
   ],
   "source": [
    "# Função a ser implementada\n",
    "def preencher_com_mediana(df):\n",
    "    # TODO: implemente aqui o preenchimento com mediana\n",
    "    pass\n",
    "\n",
    "# Testando sua função\n",
    "df_teste = pd.DataFrame({\n",
    "    'idade': [25, np.nan, 35, 40, np.nan],\n",
    "    'salario': [3000, 3200, np.nan, 5000, 4500]\n",
    "})\n",
    "\n",
    "df_resultado = preencher_com_mediana(df_teste)\n",
    "print(df_resultado)\n",
    "\n",
    "# Teste automático\n",
    "esperado = df_teste.fillna(df_teste.median(numeric_only=True))\n",
    "assert df_resultado.equals(esperado), \"❌ A função não preencheu corretamente com a mediana.\"\n",
    "print(\"✅ Função implementada corretamente!\")"
   ]
  },
  {
   "cell_type": "markdown",
   "metadata": {},
   "source": [
    "## Atividade 3: \n",
    "[Provinha sobre como aprimorar resultados de busca com métodos de Aprendizado de Máquina](https://docs.google.com/forms/d/e/1FAIpQLSevCtmNK96ZjRC58JGZDMLFx7krykKd8WBuchRlnN_QeuDA7w/viewform)"
   ]
  }
 ],
 "metadata": {
  "kernelspec": {
   "display_name": "Python 3",
   "language": "python",
   "name": "python3"
  },
  "language_info": {
   "codemirror_mode": {
    "name": "ipython",
    "version": 3
   },
   "file_extension": ".py",
   "mimetype": "text/x-python",
   "name": "python",
   "nbconvert_exporter": "python",
   "pygments_lexer": "ipython3",
   "version": "3.11.9"
  }
 },
 "nbformat": 4,
 "nbformat_minor": 2
}
